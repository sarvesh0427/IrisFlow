{
  "nbformat": 4,
  "nbformat_minor": 0,
  "metadata": {
    "colab": {
      "provenance": []
    },
    "kernelspec": {
      "name": "python3",
      "display_name": "Python 3"
    },
    "language_info": {
      "name": "python"
    }
  },
  "cells": [
    {
      "cell_type": "code",
      "source": [
        "# import required libraries\n",
        "import numpy as np\n",
        "import pandas as pd\n",
        "import seaborn as sns\n",
        "import matplotlib.pyplot as plt"
      ],
      "metadata": {
        "id": "DscQ_sYa-skO"
      },
      "execution_count": 65,
      "outputs": []
    },
    {
      "cell_type": "code",
      "source": [
        "#import dataset\n",
        "from sklearn.datasets import load_iris\n",
        "# Load the Iris dataset\n",
        "iris = load_iris()\n",
        "df = pd.DataFrame(iris.data, columns=iris.feature_names)\n",
        "df['species'] = iris.target"
      ],
      "metadata": {
        "id": "7dQZjcxi91sW"
      },
      "execution_count": 71,
      "outputs": []
    },
    {
      "cell_type": "code",
      "source": [
        "df.head()"
      ],
      "metadata": {
        "id": "pRTdS_1WF-VE"
      },
      "execution_count": null,
      "outputs": []
    },
    {
      "cell_type": "code",
      "source": [
        "# Pairplot visualization of the original dataset\n",
        "sns.pairplot(df, hue='species', palette=\"Set2\", diag_kind=\"kde\")\n",
        "plt.suptitle(\"Iris Data Distribution\", y=1.02)\n",
        "plt.show()"
      ],
      "metadata": {
        "id": "5h7BITPOGL11"
      },
      "execution_count": null,
      "outputs": []
    },
    {
      "cell_type": "code",
      "source": [
        "from sklearn.cluster import KMeans\n",
        "# Apply K-Means clustering\n",
        "kmeans = KMeans(n_clusters=3, random_state=42, n_init=10)  # 3 clusters for the 3 species\n",
        "df['cluster'] = kmeans.fit_predict(df.iloc[:, :-1])  # Exclude the 'species' column"
      ],
      "metadata": {
        "id": "gvhn-_aRG1R0"
      },
      "execution_count": 74,
      "outputs": []
    },
    {
      "cell_type": "code",
      "source": [
        "from sklearn.decomposition import PCA\n",
        "# Visualize clusters with PCA\n",
        "pca = PCA(n_components=2)\n",
        "df_pca = pca.fit_transform(df.iloc[:, :-2])  # Exclude 'species' and 'cluster'\n",
        "df['pca1'] = df_pca[:, 0]\n",
        "df['pca2'] = df_pca[:, 1]"
      ],
      "metadata": {
        "id": "u_KLxx2KHCLt"
      },
      "execution_count": 75,
      "outputs": []
    },
    {
      "cell_type": "code",
      "source": [
        "# Scatter plot of clusters\n",
        "plt.figure(figsize=(8, 6))\n",
        "sns.scatterplot(x='pca1', y='pca2', hue=df['cluster'], palette='Set1', data=df)\n",
        "plt.title(\"K-Means Clustering of Iris Dataset\")\n",
        "plt.show()"
      ],
      "metadata": {
        "id": "q_2AqLihHQ2T"
      },
      "execution_count": null,
      "outputs": []
    },
    {
      "cell_type": "code",
      "source": [
        "# Compare actual species vs clusters\n",
        "plt.figure(figsize=(8, 4))\n",
        "sns.heatmap(pd.crosstab(df['species'], df['cluster']), annot=True, cmap=\"coolwarm\")\n",
        "plt.xlabel(\"Cluster Labels\")\n",
        "plt.ylabel(\"Actual Species\")\n",
        "plt.title(\"Cluster vs Actual Species\")\n",
        "plt.show()"
      ],
      "metadata": {
        "id": "qVRe-B28Hdqn"
      },
      "execution_count": null,
      "outputs": []
    }
  ]
}